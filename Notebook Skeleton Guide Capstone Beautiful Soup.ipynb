{
 "cells": [
  {
   "cell_type": "markdown",
   "metadata": {},
   "source": [
    "# Capstone Webscrapping using BeautifulSoup\n",
    "\n",
    "This notebook contains guidances & tasks on the data processing for the application\n",
    "\n",
    "## background\n",
    "\n",
    "(Please insert the background here )\n",
    "\n",
    "## Requesting the Data and Creating a BeautifulSoup\n",
    "\n",
    "Let's begin with requesting the web from the site with `get` method."
   ]
  },
  {
   "cell_type": "code",
   "execution_count": 2,
   "metadata": {
    "ExecuteTime": {
     "end_time": "2020-01-13T05:12:23.275508Z",
     "start_time": "2020-01-13T05:12:20.009898Z"
    }
   },
   "outputs": [],
   "source": [
    "import requests\n",
    "import numpy as np\n",
    "\n",
    "url_get = requests.get('https://www.imdb.com/search/title/?release_date=2021-01-01,2021-12-31')"
   ]
  },
  {
   "cell_type": "markdown",
   "metadata": {},
   "source": [
    "To visualize what exactly you get from the `request.get`, we can use .content so ee what we exactly get, in here i slice it so it won't make our screen full of the html we get from the page. You can delete the slicing if you want to see what we fully get."
   ]
  },
  {
   "cell_type": "code",
   "execution_count": 3,
   "metadata": {
    "ExecuteTime": {
     "end_time": "2020-01-13T05:12:23.290648Z",
     "start_time": "2020-01-13T05:12:23.277650Z"
    }
   },
   "outputs": [
    {
     "data": {
      "text/plain": [
       "b'\\n<!DOCTYPE html>\\n<html\\n    xmlns:og=\"http://ogp.me/ns#\"\\n    xmlns:fb=\"http://www.facebook.com/2008/fbml\">\\n    <head>\\n         \\n        <meta charset=\"utf-8\">\\n        <meta http-equiv=\"X-UA-Compatible\" content=\"IE=edge\">\\n\\n    <meta name=\"apple-itunes-app\" content=\"app-id=342792525, app-argument=imdb:///?src=mdot\">\\n\\n\\n\\n        <script type=\"text/javascript\">var IMDbTimer={starttime: new Date().getTime(),pt:\\'java\\'};</script>\\n\\n<script>\\n    if (typeof uet == \\'function\\') {\\n      uet(\"bb\", \"LoadTitle\",'"
      ]
     },
     "execution_count": 3,
     "metadata": {},
     "output_type": "execute_result"
    }
   ],
   "source": [
    "url_get.content[1:500]"
   ]
  },
  {
   "cell_type": "markdown",
   "metadata": {},
   "source": [
    "As we can see we get a very unstructured and complex html, which actually contains the codes needed to show the webpages on your web browser. But we as human still confused what and where we can use that piece of code, so here where we use the beautifulsoup. Beautiful soup class will result a beautifulsoup object. Beautiful Soup transforms a complex HTML document into a complex tree of Python objects. \n",
    "\n",
    "Let's make Beautiful soup object and feel free to explore the object here."
   ]
  },
  {
   "cell_type": "code",
   "execution_count": 4,
   "metadata": {
    "ExecuteTime": {
     "end_time": "2020-01-13T05:12:23.808122Z",
     "start_time": "2020-01-13T05:12:23.292610Z"
    }
   },
   "outputs": [],
   "source": [
    "from bs4 import BeautifulSoup \n",
    "\n",
    "soup = BeautifulSoup(url_get.content,\"html.parser\")"
   ]
  },
  {
   "cell_type": "code",
   "execution_count": 5,
   "metadata": {},
   "outputs": [
    {
     "name": "stdout",
     "output_type": "stream",
     "text": [
      "!DOCTYPE html>\n",
      "<html xmlns:fb=\"http://www.facebook.com/2008/fbml\" xmlns:og=\"http://ogp.me/ns#\">\n",
      " <head>\n",
      "  <meta charset=\"utf-8\"/>\n",
      "  <meta content=\"IE=edge\" http-equiv=\"X-UA-Compatible\"/>\n",
      "  <meta content=\"app-id=342792525, app-argument=imdb:///?src=mdot\" name=\"apple-itunes-app\"/>\n",
      "  <script type=\"text/javascript\">\n",
      "   var IMDbTimer={starttime: new Date().getTime(),pt:'java'};\n",
      "  </script>\n",
      "  <script>\n",
      "   if (typeof uet == 'function') {\n",
      "      uet(\"bb\", \"LoadTitle\", {wb: 1});\n",
      "    }\n",
      "  </script>\n",
      "  <scrip\n"
     ]
    }
   ],
   "source": [
    "print(soup.prettify()[1:500])"
   ]
  },
  {
   "cell_type": "markdown",
   "metadata": {},
   "source": [
    "## Finding the right key to scrap the data & Extracting the right information"
   ]
  },
  {
   "cell_type": "markdown",
   "metadata": {},
   "source": [
    "Find the key and put the key into the `.find()` Put all the exploring the right key at this cell. (please change this markdown with your explanation)"
   ]
  },
  {
   "cell_type": "code",
   "execution_count": 6,
   "metadata": {
    "ExecuteTime": {
     "end_time": "2020-01-13T05:12:23.878904Z",
     "start_time": "2020-01-13T05:12:23.854974Z"
    }
   },
   "outputs": [
    {
     "name": "stdout",
     "output_type": "stream",
     "text": [
      "div class=\"lister-list\">\n",
      " <div class=\"lister-item mode-advanced\">\n",
      "  <div class=\"lister-top-right\">\n",
      "   <div class=\"ribbonize\" data-caller=\"filmosearch\" data-tconst=\"tt9777666\">\n",
      "   </div>\n",
      "  </div>\n",
      "  <div class=\"lister-item-image float-left\">\n",
      "   <a href=\"/title/tt9777666/\">\n",
      "    <img alt=\"The Tomorrow War\" class=\"loadlate\" data-tconst=\"tt9777666\" height=\"98\" loadlate=\"https://m.media-amazon.com/images/M/MV5BNTI2YTI0MWEtNGQ4OS00ODIzLWE1MWEtZGJiN2E3ZmM1OWI1XkEyXkFqcGdeQXVyODk4OTc3MTY@._V1_UX67_CR0,0,\n"
     ]
    }
   ],
   "source": [
    "table = soup.find('div', attrs={'class':'lister-list'})\n",
    "print(table.prettify()[1:500])"
   ]
  },
  {
   "cell_type": "code",
   "execution_count": 7,
   "metadata": {},
   "outputs": [],
   "source": [
    "content = table.find_all(\"div\", attrs={'class':'lister-item-content'})"
   ]
  },
  {
   "cell_type": "markdown",
   "metadata": {},
   "source": [
    "Finding row length."
   ]
  },
  {
   "cell_type": "code",
   "execution_count": 8,
   "metadata": {},
   "outputs": [
    {
     "data": {
      "text/plain": [
       "50"
      ]
     },
     "execution_count": 8,
     "metadata": {},
     "output_type": "execute_result"
    }
   ],
   "source": [
    "row_length = len(content)\n",
    "row_length"
   ]
  },
  {
   "cell_type": "markdown",
   "metadata": {},
   "source": [
    "Do the scrapping process here (please change this markdown with your explanation)"
   ]
  },
  {
   "cell_type": "code",
   "execution_count": 9,
   "metadata": {
    "ExecuteTime": {
     "end_time": "2020-01-13T05:12:24.008256Z",
     "start_time": "2020-01-13T05:12:23.980358Z"
    }
   },
   "outputs": [
    {
     "data": {
      "text/plain": [
       "[('The Tomorrow War', '6.6', '45        ', '88856'),\n",
       " ('Black Widow', '7.0', nan, '80474'),\n",
       " ('Loki', '8.8', nan, '84189'),\n",
       " ('Fear Street: 1994', '6.2', nan, '25650'),\n",
       " ('Sex/Life', '5.5', nan, '7534'),\n",
       " ('F9', '5.5', '58        ', '30671'),\n",
       " ('No Sudden Move', '6.6', nan, '10176'),\n",
       " ('Fear Street: 1978', '6.8', nan, '12235'),\n",
       " ('Luca', '7.5', nan, '60498'),\n",
       " ('What If...?', nan, nan, nan),\n",
       " ('The Boss Baby: Family Business', '6.0', '40        ', '4710'),\n",
       " ('In the Heights', '7.5', nan, '26500'),\n",
       " ('Gossip Girl', '5.4', nan, '1596'),\n",
       " (\"Hitman's Wife's Bodyguard\", '6.3', nan, '15118'),\n",
       " (\"The King's Man\", nan, nan, nan),\n",
       " ('Cruella', '7.4', '59        ', '91071'),\n",
       " ('Mare of Easttown', '8.5', nan, '71692'),\n",
       " ('The Forever Purge', '5.8', '54        ', '2642'),\n",
       " ('Beckett', nan, nan, nan),\n",
       " ('Monsters at Work', '7.4', nan, '1099'),\n",
       " ('Till Death', '5.8', nan, '4102'),\n",
       " ('Resident Evil: Infinite Darkness', '6.0', nan, '4352'),\n",
       " ('The Suicide Squad', nan, nan, nan),\n",
       " ('Sweet Tooth', '8.0', nan, '31679'),\n",
       " ('The Many Saints of Newark', nan, nan, nan),\n",
       " ('Haseen Dillruba', '6.9', nan, '13404'),\n",
       " ('The Ice Road', '5.5', '42        ', '15294'),\n",
       " ('Leverage: Redemption', '9.1', nan, '4526'),\n",
       " ('Nobody', '7.4', nan, '121753'),\n",
       " ('Physical', '7.1', nan, '1901'),\n",
       " ('Raya and the Last Dragon', '7.4', nan, '94884'),\n",
       " ('Cinderella', nan, nan, nan),\n",
       " ('America: The Motion Picture', '5.7', nan, '3436'),\n",
       " ('Werewolves Within', '6.0', nan, '3418'),\n",
       " ('Young Royals', '8.6', nan, '8346'),\n",
       " ('Annette', '7.1', nan, '544'),\n",
       " ('Space Jam: A New Legacy', '4.2', nan, '631'),\n",
       " ('Wrath of Man', '7.2', '57        ', '73627'),\n",
       " ('Encanto', nan, nan, nan),\n",
       " ('WandaVision', '8.0', nan, '194997'),\n",
       " ('Star Wars: The Bad Batch', '8.3', nan, '11648'),\n",
       " ('Old', nan, nan, nan),\n",
       " ('The Mysterious Benedict Society', '7.7', nan, '909'),\n",
       " ('Mayor Grom: Chumnoy Doktor', '6.4', nan, '5302'),\n",
       " ('Fear Street: 1666', nan, nan, nan),\n",
       " ('Lupin', '7.5', nan, '79964'),\n",
       " ('The Conjuring: The Devil Made Me Do It', '6.3', '53        ', '64452'),\n",
       " ('Fatherhood', '6.7', '53        ', '21697'),\n",
       " ('Out of Death', nan, nan, nan),\n",
       " ('Infinite', '5.4', nan, '18224')]"
      ]
     },
     "execution_count": 9,
     "metadata": {},
     "output_type": "execute_result"
    }
   ],
   "source": [
    "temp = [] #initiating a tuple\n",
    "\n",
    "for i in range(0, row_length):\n",
    "    \n",
    "    # Titles\n",
    "    titles = content[i].find('a').text\n",
    "        \n",
    "    # Ratings and Metascores\n",
    "    imdb_ratings = content[i].find('strong')\n",
    "    if imdb_ratings is not None:\n",
    "        imdb_ratings = imdb_ratings.text\n",
    "    else: imdb_ratings = np.nan\n",
    "    imdb_metascores = content[i].find('span', attrs={'class':'metascore mixed'})\n",
    "    if imdb_metascores is not None:\n",
    "        imdb_metascores = imdb_metascores.text\n",
    "    else: imdb_metascores = np.nan\n",
    "    \n",
    "    # Votes\n",
    "    imdb_votes = content[i].find('span', attrs={'name':'nv'})\n",
    "    if imdb_votes is not None:\n",
    "        imdb_votes = imdb_votes.text.replace(',','')\n",
    "    else: imdb_votes = np.nan\n",
    "    \n",
    "    temp.append((titles, imdb_ratings, imdb_metascores, imdb_votes))\n",
    "    \n",
    "temp "
   ]
  },
  {
   "cell_type": "markdown",
   "metadata": {},
   "source": [
    "## Creating data frame & Data wrangling"
   ]
  },
  {
   "cell_type": "markdown",
   "metadata": {},
   "source": [
    "Put the array into dataframe"
   ]
  },
  {
   "cell_type": "code",
   "execution_count": 10,
   "metadata": {
    "ExecuteTime": {
     "end_time": "2020-01-13T05:12:41.517372Z",
     "start_time": "2020-01-13T05:12:29.130015Z"
    }
   },
   "outputs": [
    {
     "data": {
      "text/html": [
       "<div>\n",
       "<style scoped>\n",
       "    .dataframe tbody tr th:only-of-type {\n",
       "        vertical-align: middle;\n",
       "    }\n",
       "\n",
       "    .dataframe tbody tr th {\n",
       "        vertical-align: top;\n",
       "    }\n",
       "\n",
       "    .dataframe thead th {\n",
       "        text-align: right;\n",
       "    }\n",
       "</style>\n",
       "<table border=\"1\" class=\"dataframe\">\n",
       "  <thead>\n",
       "    <tr style=\"text-align: right;\">\n",
       "      <th></th>\n",
       "      <th>Title</th>\n",
       "      <th>Rating</th>\n",
       "      <th>Metascore</th>\n",
       "      <th>Votes</th>\n",
       "    </tr>\n",
       "  </thead>\n",
       "  <tbody>\n",
       "    <tr>\n",
       "      <th>0</th>\n",
       "      <td>The Tomorrow War</td>\n",
       "      <td>6.6</td>\n",
       "      <td>45</td>\n",
       "      <td>88856</td>\n",
       "    </tr>\n",
       "    <tr>\n",
       "      <th>1</th>\n",
       "      <td>Black Widow</td>\n",
       "      <td>7.0</td>\n",
       "      <td>NaN</td>\n",
       "      <td>80474</td>\n",
       "    </tr>\n",
       "    <tr>\n",
       "      <th>2</th>\n",
       "      <td>Loki</td>\n",
       "      <td>8.8</td>\n",
       "      <td>NaN</td>\n",
       "      <td>84189</td>\n",
       "    </tr>\n",
       "    <tr>\n",
       "      <th>3</th>\n",
       "      <td>Fear Street: 1994</td>\n",
       "      <td>6.2</td>\n",
       "      <td>NaN</td>\n",
       "      <td>25650</td>\n",
       "    </tr>\n",
       "    <tr>\n",
       "      <th>4</th>\n",
       "      <td>Sex/Life</td>\n",
       "      <td>5.5</td>\n",
       "      <td>NaN</td>\n",
       "      <td>7534</td>\n",
       "    </tr>\n",
       "  </tbody>\n",
       "</table>\n",
       "</div>"
      ],
      "text/plain": [
       "               Title Rating   Metascore  Votes\n",
       "0   The Tomorrow War    6.6  45          88856\n",
       "1        Black Widow    7.0         NaN  80474\n",
       "2               Loki    8.8         NaN  84189\n",
       "3  Fear Street: 1994    6.2         NaN  25650\n",
       "4           Sex/Life    5.5         NaN   7534"
      ]
     },
     "execution_count": 10,
     "metadata": {},
     "output_type": "execute_result"
    }
   ],
   "source": [
    "import pandas as pd\n",
    "\n",
    "df = pd.DataFrame(temp, columns=['Title', 'Rating', 'Metascore', 'Votes'])\n",
    "df.head()"
   ]
  },
  {
   "cell_type": "markdown",
   "metadata": {},
   "source": [
    "Do the data cleaning here (please change this markdown with your explanation of what you do for data wrangling)"
   ]
  },
  {
   "cell_type": "code",
   "execution_count": 11,
   "metadata": {},
   "outputs": [
    {
     "data": {
      "text/plain": [
       "Title        object\n",
       "Rating       object\n",
       "Metascore    object\n",
       "Votes        object\n",
       "dtype: object"
      ]
     },
     "execution_count": 11,
     "metadata": {},
     "output_type": "execute_result"
    }
   ],
   "source": [
    "df.dtypes"
   ]
  },
  {
   "cell_type": "code",
   "execution_count": 12,
   "metadata": {
    "ExecuteTime": {
     "end_time": "2020-01-13T05:12:59.165559Z",
     "start_time": "2020-01-13T05:12:58.910012Z"
    }
   },
   "outputs": [],
   "source": [
    "df[['Rating', 'Metascore', 'Votes']] = df[['Rating', 'Metascore', 'Votes']].astype('float64')\n",
    "df['Votes'] = df['Votes']/10000\n",
    "df['Metascore'] = df['Metascore']/10\n",
    "# df = df.fillna(method='ffill').fillna(method='bfill')\n",
    "df = df.fillna(0)"
   ]
  },
  {
   "cell_type": "code",
   "execution_count": 13,
   "metadata": {},
   "outputs": [
    {
     "data": {
      "text/html": [
       "<div>\n",
       "<style scoped>\n",
       "    .dataframe tbody tr th:only-of-type {\n",
       "        vertical-align: middle;\n",
       "    }\n",
       "\n",
       "    .dataframe tbody tr th {\n",
       "        vertical-align: top;\n",
       "    }\n",
       "\n",
       "    .dataframe thead th {\n",
       "        text-align: right;\n",
       "    }\n",
       "</style>\n",
       "<table border=\"1\" class=\"dataframe\">\n",
       "  <thead>\n",
       "    <tr style=\"text-align: right;\">\n",
       "      <th></th>\n",
       "      <th>Title</th>\n",
       "      <th>Rating</th>\n",
       "      <th>Metascore</th>\n",
       "      <th>Votes</th>\n",
       "    </tr>\n",
       "  </thead>\n",
       "  <tbody>\n",
       "    <tr>\n",
       "      <th>0</th>\n",
       "      <td>The Tomorrow War</td>\n",
       "      <td>6.6</td>\n",
       "      <td>4.5</td>\n",
       "      <td>8.8856</td>\n",
       "    </tr>\n",
       "    <tr>\n",
       "      <th>1</th>\n",
       "      <td>Black Widow</td>\n",
       "      <td>7.0</td>\n",
       "      <td>0.0</td>\n",
       "      <td>8.0474</td>\n",
       "    </tr>\n",
       "    <tr>\n",
       "      <th>2</th>\n",
       "      <td>Loki</td>\n",
       "      <td>8.8</td>\n",
       "      <td>0.0</td>\n",
       "      <td>8.4189</td>\n",
       "    </tr>\n",
       "    <tr>\n",
       "      <th>3</th>\n",
       "      <td>Fear Street: 1994</td>\n",
       "      <td>6.2</td>\n",
       "      <td>0.0</td>\n",
       "      <td>2.5650</td>\n",
       "    </tr>\n",
       "    <tr>\n",
       "      <th>4</th>\n",
       "      <td>Sex/Life</td>\n",
       "      <td>5.5</td>\n",
       "      <td>0.0</td>\n",
       "      <td>0.7534</td>\n",
       "    </tr>\n",
       "  </tbody>\n",
       "</table>\n",
       "</div>"
      ],
      "text/plain": [
       "               Title  Rating  Metascore   Votes\n",
       "0   The Tomorrow War     6.6        4.5  8.8856\n",
       "1        Black Widow     7.0        0.0  8.0474\n",
       "2               Loki     8.8        0.0  8.4189\n",
       "3  Fear Street: 1994     6.2        0.0  2.5650\n",
       "4           Sex/Life     5.5        0.0  0.7534"
      ]
     },
     "execution_count": 13,
     "metadata": {},
     "output_type": "execute_result"
    }
   ],
   "source": [
    "df.head()"
   ]
  },
  {
   "cell_type": "code",
   "execution_count": 38,
   "metadata": {},
   "outputs": [
    {
     "data": {
      "image/png": "[encoded data removed]",
      "text/plain": [
       "<Figure size 1080x360 with 3 Axes>"
      ]
     },
     "metadata": {
      "needs_background": "light"
     },
     "output_type": "display_data"
    }
   ],
   "source": [
    "# Observation of top 7 data based on metascore and votes rating\n",
    "import matplotlib.pyplot as plt\n",
    "fig = plt.figure(1, figsize=(15,5))\n",
    "\n",
    "plt.subplot(1,3,1)\n",
    "df[['Title', 'Rating', 'Metascore']].set_index('Title').sort_values('Metascore', ascending=False)\\\n",
    ".head(7).plot.bar(ax=plt.gca(), title='Rating based on Metascore')\n",
    "\n",
    "plt.subplot(1,3,2)\n",
    "df[['Title', 'Rating', 'Metascore']].set_index('Title').sort_values('Rating', ascending=False)\\\n",
    ".head(7).plot.bar(ax=plt.gca(), title='Rating based on IMDB')\n",
    "\n",
    "plt.subplot(1,3,3)\n",
    "df.plot.scatter(x='Metascore', y='Rating', ax=plt.gca(), title=\"Correlation between the two rating systems\")\n",
    "\n",
    "fig.suptitle('IMDB Ratings', fontsize=20)\n",
    "fig.autofmt_xdate()"
   ]
  },
  {
   "cell_type": "markdown",
   "metadata": {},
   "source": [
    "Data visualisation (please change this markdown with your explanation of what you do for data wrangling)"
   ]
  },
  {
   "cell_type": "markdown",
   "metadata": {},
   "source": [
    "- Remove ',' inside the 'Votes' data before changing the datas into a dataframe\n",
    "- Change the data type of column 'Rating', 'Metascore', and 'Votes' to float\n",
    "- level the value of 'Metascore' and 'Votes' to around the value of 'Rating' so we plot the data\n",
    "- fill in the blanks with 0"
   ]
  },
  {
   "cell_type": "markdown",
   "metadata": {},
   "source": [
    "### Implementing your webscrapping to the flask dashboard\n",
    "\n",
    "- Copy paste all of your web scrapping process to the desired position on the `app.py`\n",
    "- Changing the title of the dasboard at `index.html`"
   ]
  },
  {
   "cell_type": "markdown",
   "metadata": {},
   "source": [
    "## Finishing This Notebook with Your Analysis and Conclusion\n",
    "\n",
    "First you can do start with making the data visualisation. "
   ]
  },
  {
   "cell_type": "markdown",
   "metadata": {
    "ExecuteTime": {
     "end_time": "2020-01-13T05:20:56.208237Z",
     "start_time": "2020-01-13T05:20:56.076043Z"
    }
   },
   "source": [
    "According to the processed data result scraped from the top 50 most popular searched film in IMDB, I take three different approaches. The first approach that I take was to obtain the top 7 film based on votes ratings, the second approach was to obtain the top 7 film based on metascore ratings, and the third approach was to find any corelation between the two ratings using scatter plot. The ratings which were taken from votes are the ratings which are generated based on the users willingness to take part in giving the film listed in IMDB, their point of view, of experiencing the film. The votes from the users will be automatically calculated to obtain the average value to be displayed in the website. The ratings which were generated from metascore are the ratings which are given by several professional critics in which the process of obtaining the ratings from metascore is through a wesite called metacritics. To generate the score, the website have to collect the reviews from various professional reviewers, summerized the reviews, and then convert the summarized reviews into a score. Do to this procedure, metascore ratings might take more time to be generated in the IMDB website than the ratings based on votes.\n",
    "\n",
    "The three different approaches that I present in this notes is to find the difference between ratings method and to find whether both method have any corelation between each other. If we observed the bar chart, There are no title of the films present in both bar charts which shows no corelations between them, and if we observe the scatter plot between the two ratings, we cannot obtain any pattern which indicate that the two ratings are correlated with each other. In the left bar chart, the ratings generated by votes tends to be more higher compare to the ratings generated from metascore. This might be due to public reviewers tends to stick to a genre or to a film with the same vibe as the last film that they watch compare to critics which has watch several different genres and give more unbiased opinion. Lastly, if we observed the bar chart on the right, we can see that all of the films does not prosess metascore ratings. However, if we observed further, most of the films in the list are mostly the newest release which probably the reason of why the metascore is no present."
   ]
  },
  {
   "cell_type": "markdown",
   "metadata": {},
   "source": [
    "### Extra Challange\n",
    "\n",
    "This will be not included to the scoring. \n",
    "\n",
    "- You can create additional analysis from the data.\n",
    "- Implement it to the dashboard with at `app.py` dan `index.html`."
   ]
  }
 ],
 "metadata": {
  "kernelspec": {
   "display_name": "WebScrapping",
   "language": "python",
   "name": "webscrapping"
  },
  "language_info": {
   "codemirror_mode": {
    "name": "ipython",
    "version": 3
   },
   "file_extension": ".py",
   "mimetype": "text/x-python",
   "name": "python",
   "nbconvert_exporter": "python",
   "pygments_lexer": "ipython3",
   "version": "3.7.10"
  },
  "toc": {
   "base_numbering": 1,
   "nav_menu": {},
   "number_sections": true,
   "sideBar": true,
   "skip_h1_title": false,
   "title_cell": "Table of Contents",
   "title_sidebar": "Contents",
   "toc_cell": false,
   "toc_position": {},
   "toc_section_display": true,
   "toc_window_display": false
  }
 },
 "nbformat": 4,
 "nbformat_minor": 2
}
