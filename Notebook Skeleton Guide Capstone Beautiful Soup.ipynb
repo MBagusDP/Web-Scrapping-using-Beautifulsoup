{
 "cells": [
  {
   "cell_type": "markdown",
   "metadata": {},
   "source": [
    "# Capstone Webscrapping using BeautifulSoup\n",
    "\n",
    "This notebook contains guidances & tasks on the data processing for the application\n",
    "\n",
    "## background\n",
    "\n",
    "(Please insert the background here )\n",
    "\n",
    "## Requesting the Data and Creating a BeautifulSoup\n",
    "\n",
    "Let's begin with requesting the web from the site with `get` method."
   ]
  },
  {
   "cell_type": "code",
   "execution_count": 30,
   "metadata": {
    "ExecuteTime": {
     "end_time": "2020-01-13T05:12:23.275508Z",
     "start_time": "2020-01-13T05:12:20.009898Z"
    }
   },
   "outputs": [],
   "source": [
    "import requests\n",
    "import numpy as np\n",
    "\n",
    "url_get = requests.get('https://www.imdb.com/search/title/?release_date=2021-01-01,2021-12-31')"
   ]
  },
  {
   "cell_type": "markdown",
   "metadata": {},
   "source": [
    "To visualize what exactly you get from the `request.get`, we can use .content so ee what we exactly get, in here i slice it so it won't make our screen full of the html we get from the page. You can delete the slicing if you want to see what we fully get."
   ]
  },
  {
   "cell_type": "code",
   "execution_count": 31,
   "metadata": {
    "ExecuteTime": {
     "end_time": "2020-01-13T05:12:23.290648Z",
     "start_time": "2020-01-13T05:12:23.277650Z"
    }
   },
   "outputs": [
    {
     "data": {
      "text/plain": [
       "b'\\n<!DOCTYPE html>\\n<html\\n    xmlns:og=\"http://ogp.me/ns#\"\\n    xmlns:fb=\"http://www.facebook.com/2008/fbml\">\\n    <head>\\n         \\n        <meta charset=\"utf-8\">\\n        <meta http-equiv=\"X-UA-Compatible\" content=\"IE=edge\">\\n\\n    <meta name=\"apple-itunes-app\" content=\"app-id=342792525, app-argument=imdb:///?src=mdot\">\\n\\n\\n\\n        <script type=\"text/javascript\">var IMDbTimer={starttime: new Date().getTime(),pt:\\'java\\'};</script>\\n\\n<script>\\n    if (typeof uet == \\'function\\') {\\n      uet(\"bb\", \"LoadTitle\",'"
      ]
     },
     "execution_count": 31,
     "metadata": {},
     "output_type": "execute_result"
    }
   ],
   "source": [
    "url_get.content[1:500]"
   ]
  },
  {
   "cell_type": "markdown",
   "metadata": {},
   "source": [
    "As we can see we get a very unstructured and complex html, which actually contains the codes needed to show the webpages on your web browser. But we as human still confused what and where we can use that piece of code, so here where we use the beautifulsoup. Beautiful soup class will result a beautifulsoup object. Beautiful Soup transforms a complex HTML document into a complex tree of Python objects. \n",
    "\n",
    "Let's make Beautiful soup object and feel free to explore the object here."
   ]
  },
  {
   "cell_type": "code",
   "execution_count": 32,
   "metadata": {
    "ExecuteTime": {
     "end_time": "2020-01-13T05:12:23.808122Z",
     "start_time": "2020-01-13T05:12:23.292610Z"
    }
   },
   "outputs": [],
   "source": [
    "from bs4 import BeautifulSoup \n",
    "\n",
    "soup = BeautifulSoup(url_get.content,\"html.parser\")"
   ]
  },
  {
   "cell_type": "code",
   "execution_count": 33,
   "metadata": {},
   "outputs": [
    {
     "name": "stdout",
     "output_type": "stream",
     "text": [
      "!DOCTYPE html>\n",
      "<html xmlns:fb=\"http://www.facebook.com/2008/fbml\" xmlns:og=\"http://ogp.me/ns#\">\n",
      " <head>\n",
      "  <meta charset=\"utf-8\"/>\n",
      "  <meta content=\"IE=edge\" http-equiv=\"X-UA-Compatible\"/>\n",
      "  <meta content=\"app-id=342792525, app-argument=imdb:///?src=mdot\" name=\"apple-itunes-app\"/>\n",
      "  <script type=\"text/javascript\">\n",
      "   var IMDbTimer={starttime: new Date().getTime(),pt:'java'};\n",
      "  </script>\n",
      "  <script>\n",
      "   if (typeof uet == 'function') {\n",
      "      uet(\"bb\", \"LoadTitle\", {wb: 1});\n",
      "    }\n",
      "  </script>\n",
      "  <scrip\n"
     ]
    }
   ],
   "source": [
    "print(soup.prettify()[1:500])"
   ]
  },
  {
   "cell_type": "markdown",
   "metadata": {},
   "source": [
    "## Finding the right key to scrap the data & Extracting the right information"
   ]
  },
  {
   "cell_type": "markdown",
   "metadata": {},
   "source": [
    "Find the key and put the key into the `.find()` Put all the exploring the right key at this cell. (please change this markdown with your explanation)"
   ]
  },
  {
   "cell_type": "code",
   "execution_count": 34,
   "metadata": {
    "ExecuteTime": {
     "end_time": "2020-01-13T05:12:23.878904Z",
     "start_time": "2020-01-13T05:12:23.854974Z"
    }
   },
   "outputs": [
    {
     "name": "stdout",
     "output_type": "stream",
     "text": [
      "div class=\"lister-list\">\n",
      " <div class=\"lister-item mode-advanced\">\n",
      "  <div class=\"lister-top-right\">\n",
      "   <div class=\"ribbonize\" data-caller=\"filmosearch\" data-tconst=\"tt9140554\">\n",
      "   </div>\n",
      "  </div>\n",
      "  <div class=\"lister-item-image float-left\">\n",
      "   <a href=\"/title/tt9140554/\">\n",
      "    <img alt=\"Loki\" class=\"loadlate\" data-tconst=\"tt9140554\" height=\"98\" loadlate=\"https://m.media-amazon.com/images/M/MV5BNTkwOTE1ZDYtODQ3Yy00YTYwLTg0YWQtYmVkNmFjNGZlYmRiXkEyXkFqcGdeQXVyNTc4MjczMTM@._V1_UX67_CR0,0,67,98_AL_.jp\n"
     ]
    }
   ],
   "source": [
    "table = soup.find('div', attrs={'class':'lister-list'})\n",
    "print(table.prettify()[1:500])"
   ]
  },
  {
   "cell_type": "code",
   "execution_count": 35,
   "metadata": {},
   "outputs": [],
   "source": [
    "content = table.find_all(\"div\", attrs={'class':'lister-item-content'})"
   ]
  },
  {
   "cell_type": "markdown",
   "metadata": {},
   "source": [
    "Finding row length."
   ]
  },
  {
   "cell_type": "code",
   "execution_count": 36,
   "metadata": {},
   "outputs": [
    {
     "data": {
      "text/plain": [
       "50"
      ]
     },
     "execution_count": 36,
     "metadata": {},
     "output_type": "execute_result"
    }
   ],
   "source": [
    "row_length = len(content)\n",
    "row_length"
   ]
  },
  {
   "cell_type": "markdown",
   "metadata": {},
   "source": [
    "Do the scrapping process here (please change this markdown with your explanation)"
   ]
  },
  {
   "cell_type": "code",
   "execution_count": 37,
   "metadata": {
    "ExecuteTime": {
     "end_time": "2020-01-13T05:12:24.008256Z",
     "start_time": "2020-01-13T05:12:23.980358Z"
    }
   },
   "outputs": [
    {
     "data": {
      "text/plain": [
       "[('Loki', '8.9', nan, '75733'),\n",
       " ('The Tomorrow War', '6.7', '45        ', '82212'),\n",
       " ('Sex/Life', '5.5', nan, '6848'),\n",
       " ('F9', '5.5', '58        ', '29455'),\n",
       " ('The Many Saints of Newark', nan, nan, nan),\n",
       " ('Luca', '7.5', nan, '57845'),\n",
       " ('Fear Street: 1994', '6.2', nan, '22627'),\n",
       " ('The Ice Road', '5.5', '42        ', '14506'),\n",
       " ('No Sudden Move', '6.6', nan, '9287'),\n",
       " ('Black Widow', '7.0', nan, '63087'),\n",
       " ('In the Heights', '7.5', nan, '25906'),\n",
       " ('Cruella', '7.4', '59        ', '89407'),\n",
       " ('Mare of Easttown', '8.5', nan, '70561'),\n",
       " ('Sweet Tooth', '8.0', nan, '30973'),\n",
       " ('Good on Paper', '5.6', '54        ', '6307'),\n",
       " ('X-Ray: Selected Satyajit Shorts', '7.4', nan, '5788'),\n",
       " ('Raya and the Last Dragon', '7.4', nan, '93745'),\n",
       " ('Fatherhood', '6.7', '53        ', '20916'),\n",
       " ('Jolt', nan, nan, nan),\n",
       " ('The Suicide Squad', nan, nan, nan),\n",
       " ('The Mysterious Benedict Society', '7.7', nan, '846'),\n",
       " ('Nobody', '7.4', nan, '120156'),\n",
       " (\"Hitman's Wife's Bodyguard\", '6.3', nan, '13847'),\n",
       " ('The Boss Baby: Family Business', '6.0', '40        ', '4108'),\n",
       " ('Katla', '7.1', nan, '6513'),\n",
       " ('Physical', '7.1', nan, '1797'),\n",
       " ('The Forever Purge', '5.9', '54        ', '2320'),\n",
       " ('The Conjuring: The Devil Made Me Do It', '6.3', '53        ', '63308'),\n",
       " ('Shang-Chi and the Legend of the Ten Rings', nan, nan, nan),\n",
       " ('America: The Motion Picture', '5.7', nan, '3204'),\n",
       " ('Wrath of Man', '7.2', '57        ', '72301'),\n",
       " ('Lupin', '7.5', nan, '79349'),\n",
       " ('Infinite', '5.4', nan, '17764'),\n",
       " ('Foundation', nan, nan, nan),\n",
       " ('False Positive', '4.6', '54        ', '2598'),\n",
       " ('Till Death', '5.8', nan, '3676'),\n",
       " ('Star Wars: The Bad Batch', '8.3', nan, '11430'),\n",
       " ('Kevin Can F**k Himself', '6.5', nan, '2373'),\n",
       " ('The Little Things', '6.3', '54        ', '66097'),\n",
       " ('Sing 2', nan, nan, nan),\n",
       " ('WandaVision', '8.0', nan, '193301'),\n",
       " ('iCarly', '7.1', nan, '2011'),\n",
       " ('Gaia', '5.4', nan, '1572'),\n",
       " ('Time', '8.4', nan, '8762'),\n",
       " (\"Clarkson's Farm\", '9.3', nan, '13969'),\n",
       " ('Invincible', '8.8', nan, '73243'),\n",
       " (\"Don't Breathe 2\", nan, nan, nan),\n",
       " ('Superman and Lois', '7.9', nan, '15787'),\n",
       " ('Grahan', '8.7', nan, '3921'),\n",
       " ('Army of the Dead', '5.8', '57        ', '126521')]"
      ]
     },
     "execution_count": 37,
     "metadata": {},
     "output_type": "execute_result"
    }
   ],
   "source": [
    "temp = [] #initiating a tuple\n",
    "\n",
    "for i in range(0, row_length):\n",
    "    \n",
    "    # Titles\n",
    "    titles = content[i].find('a').text\n",
    "        \n",
    "    # Ratings and Metascores\n",
    "    imdb_ratings = content[i].find('strong')\n",
    "    if imdb_ratings is not None:\n",
    "        imdb_ratings = imdb_ratings.text\n",
    "    else: imdb_ratings = np.nan\n",
    "    imdb_metascores = content[i].find('span', attrs={'class':'metascore mixed'})\n",
    "    if imdb_metascores is not None:\n",
    "        imdb_metascores = imdb_metascores.text\n",
    "    else: imdb_metascores = np.nan\n",
    "    \n",
    "    # Votes\n",
    "    imdb_votes = content[i].find('span', attrs={'name':'nv'})\n",
    "    if imdb_votes is not None:\n",
    "        imdb_votes = imdb_votes.text.replace(',','')\n",
    "    else: imdb_votes = np.nan\n",
    "    \n",
    "    temp.append((titles, imdb_ratings, imdb_metascores, imdb_votes))\n",
    "    \n",
    "temp "
   ]
  },
  {
   "cell_type": "markdown",
   "metadata": {},
   "source": [
    "## Creating data frame & Data wrangling"
   ]
  },
  {
   "cell_type": "markdown",
   "metadata": {},
   "source": [
    "Put the array into dataframe"
   ]
  },
  {
   "cell_type": "code",
   "execution_count": 38,
   "metadata": {
    "ExecuteTime": {
     "end_time": "2020-01-13T05:12:41.517372Z",
     "start_time": "2020-01-13T05:12:29.130015Z"
    }
   },
   "outputs": [
    {
     "data": {
      "text/html": [
       "<div>\n",
       "<style scoped>\n",
       "    .dataframe tbody tr th:only-of-type {\n",
       "        vertical-align: middle;\n",
       "    }\n",
       "\n",
       "    .dataframe tbody tr th {\n",
       "        vertical-align: top;\n",
       "    }\n",
       "\n",
       "    .dataframe thead th {\n",
       "        text-align: right;\n",
       "    }\n",
       "</style>\n",
       "<table border=\"1\" class=\"dataframe\">\n",
       "  <thead>\n",
       "    <tr style=\"text-align: right;\">\n",
       "      <th></th>\n",
       "      <th>Title</th>\n",
       "      <th>Rating</th>\n",
       "      <th>Metascore</th>\n",
       "      <th>Votes</th>\n",
       "    </tr>\n",
       "  </thead>\n",
       "  <tbody>\n",
       "    <tr>\n",
       "      <th>0</th>\n",
       "      <td>Loki</td>\n",
       "      <td>8.9</td>\n",
       "      <td>NaN</td>\n",
       "      <td>75733</td>\n",
       "    </tr>\n",
       "    <tr>\n",
       "      <th>1</th>\n",
       "      <td>The Tomorrow War</td>\n",
       "      <td>6.7</td>\n",
       "      <td>45</td>\n",
       "      <td>82212</td>\n",
       "    </tr>\n",
       "    <tr>\n",
       "      <th>2</th>\n",
       "      <td>Sex/Life</td>\n",
       "      <td>5.5</td>\n",
       "      <td>NaN</td>\n",
       "      <td>6848</td>\n",
       "    </tr>\n",
       "    <tr>\n",
       "      <th>3</th>\n",
       "      <td>F9</td>\n",
       "      <td>5.5</td>\n",
       "      <td>58</td>\n",
       "      <td>29455</td>\n",
       "    </tr>\n",
       "    <tr>\n",
       "      <th>4</th>\n",
       "      <td>The Many Saints of Newark</td>\n",
       "      <td>NaN</td>\n",
       "      <td>NaN</td>\n",
       "      <td>NaN</td>\n",
       "    </tr>\n",
       "  </tbody>\n",
       "</table>\n",
       "</div>"
      ],
      "text/plain": [
       "                       Title Rating   Metascore  Votes\n",
       "0                       Loki    8.9         NaN  75733\n",
       "1           The Tomorrow War    6.7  45          82212\n",
       "2                   Sex/Life    5.5         NaN   6848\n",
       "3                         F9    5.5  58          29455\n",
       "4  The Many Saints of Newark    NaN         NaN    NaN"
      ]
     },
     "execution_count": 38,
     "metadata": {},
     "output_type": "execute_result"
    }
   ],
   "source": [
    "import pandas as pd\n",
    "\n",
    "df = pd.DataFrame(temp, columns=['Title', 'Rating', 'Metascore', 'Votes'])\n",
    "df.head()"
   ]
  },
  {
   "cell_type": "markdown",
   "metadata": {},
   "source": [
    "Do the data cleaning here (please change this markdown with your explanation of what you do for data wrangling)"
   ]
  },
  {
   "cell_type": "code",
   "execution_count": 39,
   "metadata": {},
   "outputs": [
    {
     "data": {
      "text/plain": [
       "Title        object\n",
       "Rating       object\n",
       "Metascore    object\n",
       "Votes        object\n",
       "dtype: object"
      ]
     },
     "execution_count": 39,
     "metadata": {},
     "output_type": "execute_result"
    }
   ],
   "source": [
    "df.dtypes"
   ]
  },
  {
   "cell_type": "code",
   "execution_count": 40,
   "metadata": {
    "ExecuteTime": {
     "end_time": "2020-01-13T05:12:59.165559Z",
     "start_time": "2020-01-13T05:12:58.910012Z"
    }
   },
   "outputs": [],
   "source": [
    "df[['Rating', 'Metascore', 'Votes']] = df[['Rating', 'Metascore', 'Votes']].astype('float64')\n",
    "df['Votes'] = df['Votes']/10000\n",
    "df['Metascore'] = df['Metascore']/10\n",
    "# df = df.fillna(method='ffill').fillna(method='bfill')\n",
    "df = df.fillna(0)"
   ]
  },
  {
   "cell_type": "code",
   "execution_count": 41,
   "metadata": {},
   "outputs": [
    {
     "data": {
      "text/html": [
       "<div>\n",
       "<style scoped>\n",
       "    .dataframe tbody tr th:only-of-type {\n",
       "        vertical-align: middle;\n",
       "    }\n",
       "\n",
       "    .dataframe tbody tr th {\n",
       "        vertical-align: top;\n",
       "    }\n",
       "\n",
       "    .dataframe thead th {\n",
       "        text-align: right;\n",
       "    }\n",
       "</style>\n",
       "<table border=\"1\" class=\"dataframe\">\n",
       "  <thead>\n",
       "    <tr style=\"text-align: right;\">\n",
       "      <th></th>\n",
       "      <th>Title</th>\n",
       "      <th>Rating</th>\n",
       "      <th>Metascore</th>\n",
       "      <th>Votes</th>\n",
       "    </tr>\n",
       "  </thead>\n",
       "  <tbody>\n",
       "    <tr>\n",
       "      <th>0</th>\n",
       "      <td>Loki</td>\n",
       "      <td>8.9</td>\n",
       "      <td>0.0</td>\n",
       "      <td>7.5733</td>\n",
       "    </tr>\n",
       "    <tr>\n",
       "      <th>1</th>\n",
       "      <td>The Tomorrow War</td>\n",
       "      <td>6.7</td>\n",
       "      <td>4.5</td>\n",
       "      <td>8.2212</td>\n",
       "    </tr>\n",
       "    <tr>\n",
       "      <th>2</th>\n",
       "      <td>Sex/Life</td>\n",
       "      <td>5.5</td>\n",
       "      <td>0.0</td>\n",
       "      <td>0.6848</td>\n",
       "    </tr>\n",
       "    <tr>\n",
       "      <th>3</th>\n",
       "      <td>F9</td>\n",
       "      <td>5.5</td>\n",
       "      <td>5.8</td>\n",
       "      <td>2.9455</td>\n",
       "    </tr>\n",
       "    <tr>\n",
       "      <th>4</th>\n",
       "      <td>The Many Saints of Newark</td>\n",
       "      <td>0.0</td>\n",
       "      <td>0.0</td>\n",
       "      <td>0.0000</td>\n",
       "    </tr>\n",
       "  </tbody>\n",
       "</table>\n",
       "</div>"
      ],
      "text/plain": [
       "                       Title  Rating  Metascore   Votes\n",
       "0                       Loki     8.9        0.0  7.5733\n",
       "1           The Tomorrow War     6.7        4.5  8.2212\n",
       "2                   Sex/Life     5.5        0.0  0.6848\n",
       "3                         F9     5.5        5.8  2.9455\n",
       "4  The Many Saints of Newark     0.0        0.0  0.0000"
      ]
     },
     "execution_count": 41,
     "metadata": {},
     "output_type": "execute_result"
    }
   ],
   "source": [
    "df.head()"
   ]
  },
  {
   "cell_type": "code",
   "execution_count": 42,
   "metadata": {},
   "outputs": [
    {
     "data": {
      "image/png": "[encoded data removed]",
      "text/plain": [
       "<Figure size 1080x360 with 2 Axes>"
      ]
     },
     "metadata": {
      "needs_background": "light"
     },
     "output_type": "display_data"
    }
   ],
   "source": [
    "# Observation of top 7 data based on metascore and votes rating\n",
    "import matplotlib.pyplot as plt\n",
    "fig = plt.figure(1, figsize=(15,5))\n",
    "plt.subplot(1,2,1)\n",
    "df.set_index('Title').sort_values('Metascore', ascending=False).head(7).plot.bar(ax=plt.gca(), xlabel='Rating based on Metascore')\n",
    "plt.subplot(1,2,2)\n",
    "df.set_index('Title').sort_values('Rating', ascending=False).head(7).plot.bar(ax=plt.gca(), xlabel='Rating based on IMDB')\n",
    "fig.suptitle('IMDB Ratings', fontsize=20)\n",
    "fig.autofmt_xdate()"
   ]
  },
  {
   "cell_type": "code",
   "execution_count": 43,
   "metadata": {},
   "outputs": [
    {
     "data": {
      "image/png": "[encoded data removed]",
      "text/plain": [
       "<Figure size 1080x360 with 1 Axes>"
      ]
     },
     "metadata": {
      "needs_background": "light"
     },
     "output_type": "display_data"
    }
   ],
   "source": [
    "# Obsrvation of all data\n",
    "fig = plt.figure(1, figsize=(15,5))\n",
    "plt.subplot()\n",
    "df.plot.bar(ax=plt.gca())\n",
    "fig.suptitle('IMDB Ratings', fontsize=20)\n",
    "fig.autofmt_xdate()"
   ]
  },
  {
   "cell_type": "markdown",
   "metadata": {},
   "source": [
    "Data visualisation (please change this markdown with your explanation of what you do for data wrangling)"
   ]
  },
  {
   "cell_type": "markdown",
   "metadata": {},
   "source": [
    "- Remove ',' inside the 'Votes' data before changing the datas into a dataframe\n",
    "- Change the data type of column 'Rating', 'Metascore', and 'Votes' to float\n",
    "- level the value of 'Metascore' and 'Votes' to around the value of 'Rating' so we plot the data\n",
    "- fill in the blanks with 0"
   ]
  },
  {
   "cell_type": "markdown",
   "metadata": {},
   "source": [
    "### Implementing your webscrapping to the flask dashboard\n",
    "\n",
    "- Copy paste all of your web scrapping process to the desired position on the `app.py`\n",
    "- Changing the title of the dasboard at `index.html`"
   ]
  },
  {
   "cell_type": "markdown",
   "metadata": {},
   "source": [
    "## Finishing This Notebook with Your Analysis and Conclusion\n",
    "\n",
    "First you can do start with making the data visualisation. "
   ]
  },
  {
   "cell_type": "markdown",
   "metadata": {
    "ExecuteTime": {
     "end_time": "2020-01-13T05:20:56.208237Z",
     "start_time": "2020-01-13T05:20:56.076043Z"
    }
   },
   "source": [
    "According to the processed data result scraped from the top 50 most popular searched film in IMDB, I take two different approaches. The first approach that I take was to obtain the top 7 film based on votes ratings, and the second approach was to obtain the top 7 film based on metascore ratings. The ratings which were taken from votes are the ratings which are generated based on the users willingness to take part in giving the film listed in IMDB, their point of view, of experiencing the film. The votes from the users will be automatically calculated to obtain the average value to be displayed in the website. The ratings which were generated from metascore are the ratings which are given by several professional critics in which the process of obtaining the ratings from metascore is through a wesite called metacritics. To generate the score, the website have to collect the reviews from various professional reviewers, summerized the reviews, and then convert the summarized reviews into a score. Do to this procedure, metascore ratings might take more time to be generated in the IMDB website than the ratings based on votes.\n",
    "\n",
    "The two different approaches that I present in this notes is to find the difference between ratings method and to find whether both method have any corelation between each other. If we observed the bar chart, There are no title of the films present in both bar charts which shows no corelations between them. In the left bar chart, the ratings generated by votes tends to be more higher compare to the ratings generated from metascore. This might be due to public reviewers tends to stick to a genre or to a film with the same vibe as the last film that they watch compare to critics which has watch several different genres and give more unbiased opinion. Lastly, if we observed the bar chart on the right, we can see that all of the films does not prosess metascore ratings. However, if we observed further, most of the films in the list are mostly the newest release which probably the reason of why the metascore is no present."
   ]
  },
  {
   "cell_type": "markdown",
   "metadata": {},
   "source": [
    "### Extra Challange\n",
    "\n",
    "This will be not included to the scoring. \n",
    "\n",
    "- You can create additional analysis from the data.\n",
    "- Implement it to the dashboard with at `app.py` dan `index.html`."
   ]
  }
 ],
 "metadata": {
  "kernelspec": {
   "display_name": "WebScrapping",
   "language": "python",
   "name": "webscrapping"
  },
  "language_info": {
   "codemirror_mode": {
    "name": "ipython",
    "version": 3
   },
   "file_extension": ".py",
   "mimetype": "text/x-python",
   "name": "python",
   "nbconvert_exporter": "python",
   "pygments_lexer": "ipython3",
   "version": "3.7.10"
  },
  "toc": {
   "base_numbering": 1,
   "nav_menu": {},
   "number_sections": true,
   "sideBar": true,
   "skip_h1_title": false,
   "title_cell": "Table of Contents",
   "title_sidebar": "Contents",
   "toc_cell": false,
   "toc_position": {},
   "toc_section_display": true,
   "toc_window_display": false
  }
 },
 "nbformat": 4,
 "nbformat_minor": 2
}
